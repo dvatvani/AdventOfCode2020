{
 "cells": [
  {
   "cell_type": "code",
   "execution_count": 1,
   "metadata": {},
   "outputs": [],
   "source": [
    "with open('../puzzle_input_files/day_3_input.txt') as inputfile:\n",
    "    input_contents = inputfile.read()[:-1].split('\\n')"
   ]
  },
  {
   "cell_type": "code",
   "execution_count": 2,
   "metadata": {},
   "outputs": [],
   "source": [
    "# A function to count the number of trees encountered based on the slope parameters of the path downhill\n",
    "def count_trees_encountered(right_steps, down_steps=1):\n",
    "    trees_encountered = 0\n",
    "    for n, row in enumerate(input_contents):\n",
    "        if n % down_steps == 0:\n",
    "            index = ((right_steps * n) // down_steps) % len(row)\n",
    "            if row[index] == '#':\n",
    "                trees_encountered += 1\n",
    "    return(trees_encountered)"
   ]
  },
  {
   "cell_type": "code",
   "execution_count": 3,
   "metadata": {},
   "outputs": [
    {
     "output_type": "execute_result",
     "data": {
      "text/plain": [
       "276"
      ]
     },
     "metadata": {},
     "execution_count": 3
    }
   ],
   "source": [
    "# Part I\n",
    "\n",
    "count_trees_encountered(3,1)"
   ]
  },
  {
   "cell_type": "code",
   "execution_count": 4,
   "metadata": {},
   "outputs": [
    {
     "output_type": "execute_result",
     "data": {
      "text/plain": [
       "7812180000"
      ]
     },
     "metadata": {},
     "execution_count": 4
    }
   ],
   "source": [
    "# Part II\n",
    "\n",
    "from math import prod\n",
    "\n",
    "array = [\n",
    "    count_trees_encountered(1,1),\n",
    "    count_trees_encountered(3,1),\n",
    "    count_trees_encountered(5,1),\n",
    "    count_trees_encountered(7,1),\n",
    "    count_trees_encountered(1,2)\n",
    "    ]\n",
    "\n",
    "prod(array)"
   ]
  }
 ],
 "metadata": {
  "kernelspec": {
   "display_name": "Python 3",
   "language": "python",
   "name": "python3"
  },
  "language_info": {
   "codemirror_mode": {
    "name": "ipython",
    "version": 3
   },
   "file_extension": ".py",
   "mimetype": "text/x-python",
   "name": "python",
   "nbconvert_exporter": "python",
   "pygments_lexer": "ipython3",
   "version": "3.8.3-final"
  }
 },
 "nbformat": 4,
 "nbformat_minor": 4
}