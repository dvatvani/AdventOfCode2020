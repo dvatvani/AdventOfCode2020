{
 "cells": [
  {
   "cell_type": "code",
   "execution_count": 1,
   "metadata": {},
   "outputs": [],
   "source": [
    "import collections"
   ]
  },
  {
   "cell_type": "code",
   "execution_count": 2,
   "metadata": {},
   "outputs": [],
   "source": [
    "with open('../puzzle_input_files/day_2_input.txt') as inputfile:\n",
    "    input_data = inputfile.readlines()"
   ]
  },
  {
   "cell_type": "code",
   "execution_count": 3,
   "metadata": {},
   "outputs": [],
   "source": [
    "# A utility function to parse each row and extract the 2 policy INTs, the policy character, and password\n",
    "def parse_row(row):\n",
    "    policy, pwd = row.split(':')\n",
    "    pwd = pwd.strip()  # Remove trailing whitespace or newline characters around the password \n",
    "    policy_ints, policy_character = policy.split(' ')\n",
    "    policy_int_1, policy_int_2 = [int(x) for x in policy_ints.split('-')]  # Separate the policy numbers out and convert to INTs \n",
    "\n",
    "    return(policy_int_1, policy_int_2, policy_character, pwd)"
   ]
  },
  {
   "cell_type": "code",
   "execution_count": 4,
   "metadata": {},
   "outputs": [
    {
     "output_type": "stream",
     "name": "stdout",
     "text": [
      "383\n"
     ]
    }
   ],
   "source": [
    "# Part I\n",
    "\n",
    "valid_passwords = []\n",
    "for row in input_data:\n",
    "    policy_int_1, policy_int_2, policy_character, pwd = parse_row(row)\n",
    "    n_appearances_of_character = collections.Counter(pwd)[policy_character]  # Count the number of instances of the policy character\n",
    "    if (n_appearances_of_character >= policy_int_1) and (n_appearances_of_character <= policy_int_2):\n",
    "        valid_passwords.append(row)\n",
    "\n",
    "print(len(valid_passwords))"
   ]
  },
  {
   "cell_type": "code",
   "execution_count": 5,
   "metadata": {},
   "outputs": [
    {
     "output_type": "stream",
     "name": "stdout",
     "text": [
      "272\n"
     ]
    }
   ],
   "source": [
    "# Part II\n",
    "\n",
    "valid_passwords = []\n",
    "for row in input_data:\n",
    "    policy_int_1, policy_int_2, policy_character, pwd = parse_row(row)\n",
    "    # Check that there are exactly 1 instances of the policy character between the given index positions  \n",
    "    if collections.Counter([pwd[policy_int_1 - 1], pwd[policy_int_2 - 1]])[policy_character] == 1:\n",
    "        valid_passwords.append(row)\n",
    "print(len(valid_passwords))"
   ]
  }
 ],
 "metadata": {
  "kernelspec": {
   "display_name": "Python 3",
   "language": "python",
   "name": "python3"
  },
  "language_info": {
   "codemirror_mode": {
    "name": "ipython",
    "version": 3
   },
   "file_extension": ".py",
   "mimetype": "text/x-python",
   "name": "python",
   "nbconvert_exporter": "python",
   "pygments_lexer": "ipython3",
   "version": "3.8.3-final"
  }
 },
 "nbformat": 4,
 "nbformat_minor": 4
}